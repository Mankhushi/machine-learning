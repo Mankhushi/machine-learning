{
 "cells": [
  {
   "cell_type": "markdown",
   "id": "efd0616a",
   "metadata": {},
   "source": [
    "# numpy:--------\n",
    "NumPy is a Python library.\n",
    "\n",
    "NumPy is used for working with arrays.\n",
    "\n",
    "NumPy is short for \"Numerical Python\"."
   ]
  },
  {
   "cell_type": "markdown",
   "id": "bc5ed420",
   "metadata": {},
   "source": [
    "# NumPy Introduction:---\n",
    "#What is NumPy?\n",
    "\n",
    "#NumPy is a Python library used for working with arrays.\n",
    "\n",
    "It also has functions for working in domain of linear algebra, fourier transform, and matrices.\n",
    "\n",
    "NumPy was created in 2005 by Travis Oliphant. It is an open source project and you can use it freely.\n",
    "\n",
    "NumPy stands for Numerical Python.\n",
    "\n",
    "\n",
    "\n",
    "Why Use NumPy?\n",
    "\n",
    "In Python we have lists that serve the purpose of arrays, but they are slow to process.\n",
    "\n",
    "NumPy aims to provide an array object that is up to 50x faster than traditional Python lists.\n",
    "\n",
    "The array object in NumPy is called ndarray, it provides a lot of supporting functions that make working with ndarray very easy.\n",
    "\n",
    "Arrays are very frequently used in data science, where speed and resources are very important.\n",
    "\n",
    "Data Science: is a branch of computer science where we study how to store, use and analyze data for deriving information from it.\n",
    "\n",
    "\n",
    "\n",
    "Why is NumPy Faster Than Lists?\n",
    "\n",
    "NumPy arrays are stored at one continuous place in memory unlike lists, so processes can access and manipulate them very efficiently.\n",
    "\n",
    "This behavior is called locality of reference in computer science.\n",
    "\n",
    "This is the main reason why NumPy is faster than lists. Also it is optimized to work with latest CPU architectures.\n",
    "\n",
    "Which Language is NumPy written in?\n",
    "NumPy is a Python library and is written partially in Python, but most of the parts that require fast computation are written in C or C++."
   ]
  },
  {
   "cell_type": "markdown",
   "id": "8eaa59db",
   "metadata": {},
   "source": [
    "# NumPy Getting Started\n",
    "Installation of NumPy\n",
    "If you have Python and PIP already installed on a system, then installation of NumPy is very easy.\n",
    "\n",
    "Install it using this command:"
   ]
  },
  {
   "cell_type": "code",
   "execution_count": null,
   "id": "68e1c81f",
   "metadata": {},
   "outputs": [],
   "source": [
    "# C:\\Users\\Your Name>pip install numpy"
   ]
  },
  {
   "cell_type": "code",
   "execution_count": null,
   "id": "95c3d7c9",
   "metadata": {},
   "outputs": [],
   "source": [
    "# If this command fails, then use a python distribution that already has NumPy installed like, Anaconda, Spyder etc."
   ]
  },
  {
   "cell_type": "markdown",
   "id": "a74ecd73",
   "metadata": {},
   "source": [
    "#Import NumPy\n",
    "Once NumPy is installed, import it in your applications by adding the import keyword:"
   ]
  },
  {
   "cell_type": "code",
   "execution_count": 1,
   "id": "fbbc1eda",
   "metadata": {},
   "outputs": [],
   "source": [
    "import numpy"
   ]
  },
  {
   "cell_type": "code",
   "execution_count": 2,
   "id": "98cffec0",
   "metadata": {},
   "outputs": [
    {
     "name": "stdout",
     "output_type": "stream",
     "text": [
      "[1 2 3 4 5]\n"
     ]
    }
   ],
   "source": [
    "import numpy\n",
    "\n",
    "arr = numpy.array([1, 2, 3, 4, 5])\n",
    "\n",
    "print(arr)"
   ]
  },
  {
   "cell_type": "markdown",
   "id": "939f682a",
   "metadata": {},
   "source": [
    "NumPy as np\n",
    "NumPy is usually imported under the np alias.\n",
    "\n",
    "alias: In Python alias are an alternate name for referring to the same thing.\n",
    "\n",
    "Create an alias with the as keyword while importing:"
   ]
  },
  {
   "cell_type": "code",
   "execution_count": 3,
   "id": "dd43da1e",
   "metadata": {},
   "outputs": [],
   "source": [
    "import numpy as np"
   ]
  },
  {
   "cell_type": "code",
   "execution_count": null,
   "id": "d3af073e",
   "metadata": {},
   "outputs": [],
   "source": [
    "#Now the NumPy package can be referred to as np instead of numpy."
   ]
  },
  {
   "cell_type": "code",
   "execution_count": 4,
   "id": "5c66f93f",
   "metadata": {},
   "outputs": [
    {
     "name": "stdout",
     "output_type": "stream",
     "text": [
      "[1 2 3 4 5]\n"
     ]
    }
   ],
   "source": [
    "import numpy as np\n",
    "\n",
    "arr = np.array([1, 2, 3, 4, 5])\n",
    "\n",
    "print(arr)"
   ]
  },
  {
   "cell_type": "code",
   "execution_count": null,
   "id": "5846ed39",
   "metadata": {},
   "outputs": [],
   "source": [
    "#Checking NumPy Version\n",
    "The version string is stored under __version__ attribute."
   ]
  },
  {
   "cell_type": "code",
   "execution_count": 5,
   "id": "7b1088fb",
   "metadata": {},
   "outputs": [
    {
     "name": "stdout",
     "output_type": "stream",
     "text": [
      "1.20.3\n"
     ]
    }
   ],
   "source": [
    "import numpy as np\n",
    "\n",
    "print(np.__version__)"
   ]
  },
  {
   "cell_type": "markdown",
   "id": "333e17bd",
   "metadata": {},
   "source": [
    "# NumPy Creating Arrays:--"
   ]
  },
  {
   "cell_type": "code",
   "execution_count": null,
   "id": "60fa96ab",
   "metadata": {},
   "outputs": [],
   "source": [
    "Create a #NumPy ndarray Object\n",
    "#NumPy is #used to work with arrays. The array object in NumPy is called ndarray.\n",
    "\n",
    "#We can create a NumPy ndarray object by using the array() function."
   ]
  },
  {
   "cell_type": "code",
   "execution_count": 6,
   "id": "3143d765",
   "metadata": {},
   "outputs": [
    {
     "name": "stdout",
     "output_type": "stream",
     "text": [
      "[1 2 3 4 5]\n",
      "<class 'numpy.ndarray'>\n"
     ]
    }
   ],
   "source": [
    "import numpy as np\n",
    "\n",
    "arr = np.array([1, 2, 3, 4, 5])\n",
    "\n",
    "print(arr)\n",
    "\n",
    "print(type(arr))"
   ]
  },
  {
   "cell_type": "code",
   "execution_count": null,
   "id": "32006b72",
   "metadata": {},
   "outputs": [],
   "source": [
    "type(): This built-in Python function tells us the type of the object passed to it. Like in above code it shows that arr is numpy.ndarray type."
   ]
  },
  {
   "cell_type": "code",
   "execution_count": null,
   "id": "7c61a7cd",
   "metadata": {},
   "outputs": [],
   "source": [
    "#To create an ndarray, we can pass a list, tuple or any array-like object into the array() method, and it will be converted into an ndarray:"
   ]
  },
  {
   "cell_type": "code",
   "execution_count": 7,
   "id": "ed2b2392",
   "metadata": {},
   "outputs": [
    {
     "name": "stdout",
     "output_type": "stream",
     "text": [
      "[1 2 3 4 5]\n"
     ]
    }
   ],
   "source": [
    "# Use a tuple to create a NumPy array:\n",
    "\n",
    "import numpy as np\n",
    "\n",
    "arr = np.array((1, 2, 3, 4, 5))\n",
    "\n",
    "print(arr)"
   ]
  },
  {
   "cell_type": "markdown",
   "id": "34ed72dc",
   "metadata": {},
   "source": [
    "Dimensions in Arrays\n",
    "A dimension in arrays is one level of array depth (nested arrays).\n",
    "\n",
    "nested array: are arrays that have arrays as their elements."
   ]
  },
  {
   "cell_type": "markdown",
   "id": "16480096",
   "metadata": {},
   "source": [
    "0-D Arrays\n",
    "0-D arrays, or Scalars, are the elements in an array. Each value in an array is a 0-D array."
   ]
  },
  {
   "cell_type": "code",
   "execution_count": 8,
   "id": "d2b606bc",
   "metadata": {},
   "outputs": [
    {
     "name": "stdout",
     "output_type": "stream",
     "text": [
      "42\n"
     ]
    }
   ],
   "source": [
    "#Create a 0-D array with value 42\n",
    "\n",
    "import numpy as np\n",
    "\n",
    "arr = np.array(42)\n",
    "\n",
    "print(arr)"
   ]
  },
  {
   "cell_type": "markdown",
   "id": "a9f35a5f",
   "metadata": {},
   "source": [
    "1-D Arrays\n",
    "An array that has 0-D arrays as its elements is called uni-dimensional or 1-D array.\n",
    "\n",
    "These are the most common and basic arrays."
   ]
  },
  {
   "cell_type": "code",
   "execution_count": 9,
   "id": "3e00ef4d",
   "metadata": {},
   "outputs": [
    {
     "name": "stdout",
     "output_type": "stream",
     "text": [
      "[1 2 3 4 5]\n"
     ]
    }
   ],
   "source": [
    "#Create a 1-D array containing the values 1,2,3,4,5:\n",
    "\n",
    "import numpy as np\n",
    "\n",
    "arr = np.array([1, 2, 3, 4, 5])\n",
    "\n",
    "print(arr)"
   ]
  },
  {
   "cell_type": "markdown",
   "id": "24ee7eff",
   "metadata": {},
   "source": [
    "2-D Arrays\n",
    "An array that has 1-D arrays as its elements is called a 2-D array.\n",
    "\n",
    "These are often used to represent matrix or 2nd order tensors.\n",
    "NumPy has a whole sub module dedicated towards matrix operations called numpy.mat"
   ]
  },
  {
   "cell_type": "code",
   "execution_count": 10,
   "id": "2fd67f40",
   "metadata": {},
   "outputs": [
    {
     "name": "stdout",
     "output_type": "stream",
     "text": [
      "[[1 2 3]\n",
      " [4 5 6]]\n"
     ]
    }
   ],
   "source": [
    "#Create a 2-D array containing two arrays with the values 1,2,3 and 4,5,6:\n",
    "\n",
    "import numpy as np\n",
    "\n",
    "arr = np.array([[1, 2, 3], [4, 5, 6]])\n",
    "\n",
    "print(arr)"
   ]
  },
  {
   "cell_type": "markdown",
   "id": "780727de",
   "metadata": {},
   "source": [
    "3-D arrays\n",
    "An array that has 2-D arrays (matrices) as its elements is called 3-D array.\n",
    "\n",
    "These are often used to represent a 3rd order tensor."
   ]
  },
  {
   "cell_type": "code",
   "execution_count": 11,
   "id": "02c1aa05",
   "metadata": {},
   "outputs": [
    {
     "name": "stdout",
     "output_type": "stream",
     "text": [
      "[[[1 2 3]\n",
      "  [4 5 6]]\n",
      "\n",
      " [[1 2 3]\n",
      "  [4 5 6]]]\n"
     ]
    }
   ],
   "source": [
    "# Create a 3-D array with two 2-D arrays, both containing two arrays with the values 1,2,3 and 4,5,6:\n",
    "\n",
    "import numpy as np\n",
    "\n",
    "arr = np.array([[[1, 2, 3], [4, 5, 6]], [[1, 2, 3], [4, 5, 6]]])\n",
    "\n",
    "print(arr)"
   ]
  },
  {
   "cell_type": "markdown",
   "id": "36c07d23",
   "metadata": {},
   "source": [
    "Check Number of Dimensions?\n",
    "NumPy Arrays provides the ndim attribute that returns an integer that tells us how many dimensions the array have."
   ]
  },
  {
   "cell_type": "code",
   "execution_count": 12,
   "id": "df51992b",
   "metadata": {},
   "outputs": [
    {
     "name": "stdout",
     "output_type": "stream",
     "text": [
      "0\n",
      "1\n",
      "2\n",
      "3\n"
     ]
    }
   ],
   "source": [
    "import numpy as np\n",
    "\n",
    "a = np.array(42)\n",
    "b = np.array([1, 2, 3, 4, 5])\n",
    "c = np.array([[1, 2, 3], [4, 5, 6]])\n",
    "d = np.array([[[1, 2, 3], [4, 5, 6]], [[1, 2, 3], [4, 5, 6]]])\n",
    "\n",
    "print(a.ndim)\n",
    "print(b.ndim)\n",
    "print(c.ndim)\n",
    "print(d.ndim)\n"
   ]
  },
  {
   "cell_type": "markdown",
   "id": "5be1b378",
   "metadata": {},
   "source": [
    "Higher Dimensional Arrays\n",
    "An array can have any number of dimensions.\n",
    "\n",
    "When the array is created, you can define the number of dimensions by using the ndmin argument."
   ]
  },
  {
   "cell_type": "code",
   "execution_count": 13,
   "id": "40ffdc86",
   "metadata": {},
   "outputs": [
    {
     "name": "stdout",
     "output_type": "stream",
     "text": [
      "[[[[[1 2 3 4]]]]]\n",
      "number of dimensions : 5\n"
     ]
    }
   ],
   "source": [
    "#Create an array with 5 dimensions and verify that it has 5 dimensions:\n",
    "\n",
    "import numpy as np\n",
    "\n",
    "arr = np.array([1, 2, 3, 4], ndmin=5)\n",
    "\n",
    "print(arr)\n",
    "print('number of dimensions :', arr.ndim)"
   ]
  },
  {
   "cell_type": "markdown",
   "id": "4297ee12",
   "metadata": {},
   "source": [
    "# NumPy Array Indexing\n"
   ]
  },
  {
   "cell_type": "markdown",
   "id": "513af51d",
   "metadata": {},
   "source": [
    "Access Array Elements\n",
    "Array indexing is the same as accessing an array element.\n",
    "\n",
    "You can access an array element by referring to its index number.\n",
    "\n",
    "The indexes in NumPy arrays start with 0, meaning that the first element has index 0, and the second has index 1 etc."
   ]
  },
  {
   "cell_type": "code",
   "execution_count": 14,
   "id": "fe47cd33",
   "metadata": {},
   "outputs": [
    {
     "name": "stdout",
     "output_type": "stream",
     "text": [
      "1\n"
     ]
    }
   ],
   "source": [
    "import numpy as np\n",
    "\n",
    "arr = np.array([1, 2, 3, 4])\n",
    "\n",
    "print(arr[0])"
   ]
  },
  {
   "cell_type": "code",
   "execution_count": 15,
   "id": "9c733d65",
   "metadata": {},
   "outputs": [
    {
     "name": "stdout",
     "output_type": "stream",
     "text": [
      "2\n"
     ]
    }
   ],
   "source": [
    "import numpy as np\n",
    "\n",
    "arr = np.array([1, 2, 3, 4])\n",
    "\n",
    "print(arr[1])"
   ]
  },
  {
   "cell_type": "code",
   "execution_count": 16,
   "id": "0cb745c1",
   "metadata": {},
   "outputs": [
    {
     "name": "stdout",
     "output_type": "stream",
     "text": [
      "7\n"
     ]
    }
   ],
   "source": [
    "import numpy as np\n",
    "\n",
    "arr = np.array([1, 2, 3, 4])\n",
    "\n",
    "print(arr[2] + arr[3])"
   ]
  },
  {
   "cell_type": "markdown",
   "id": "d2c5f906",
   "metadata": {},
   "source": [
    "Access 2-D Arrays\n",
    "To access elements from 2-D arrays we can use comma separated integers representing the dimension and the index of the element.\n",
    "\n",
    "Think of 2-D arrays like a table with rows and columns, where the row represents the dimension and the index represents the column."
   ]
  },
  {
   "cell_type": "code",
   "execution_count": 17,
   "id": "d62c4b62",
   "metadata": {},
   "outputs": [
    {
     "name": "stdout",
     "output_type": "stream",
     "text": [
      "2nd element on 1st row:  2\n"
     ]
    }
   ],
   "source": [
    "import numpy as np\n",
    "\n",
    "arr = np.array([[1,2,3,4,5], [6,7,8,9,10]])\n",
    "\n",
    "print('2nd element on 1st row: ', arr[0, 1])"
   ]
  },
  {
   "cell_type": "code",
   "execution_count": 18,
   "id": "52d82c86",
   "metadata": {},
   "outputs": [
    {
     "name": "stdout",
     "output_type": "stream",
     "text": [
      "5th element on 2nd row:  10\n"
     ]
    }
   ],
   "source": [
    "import numpy as np\n",
    "\n",
    "arr = np.array([[1,2,3,4,5], [6,7,8,9,10]])\n",
    "\n",
    "print('5th element on 2nd row: ', arr[1, 4])"
   ]
  },
  {
   "cell_type": "markdown",
   "id": "c44b56bc",
   "metadata": {},
   "source": [
    "# Access 3-D Arrays"
   ]
  },
  {
   "cell_type": "code",
   "execution_count": 19,
   "id": "b1ba23b8",
   "metadata": {},
   "outputs": [
    {
     "name": "stdout",
     "output_type": "stream",
     "text": [
      "6\n"
     ]
    }
   ],
   "source": [
    "import numpy as np\n",
    "\n",
    "arr = np.array([[[1, 2, 3], [4, 5, 6]], [[7, 8, 9], [10, 11, 12]]])\n",
    "\n",
    "print(arr[0, 1, 2])"
   ]
  },
  {
   "cell_type": "markdown",
   "id": "93d48659",
   "metadata": {},
   "source": [
    "# Negative Indexing"
   ]
  },
  {
   "cell_type": "code",
   "execution_count": 20,
   "id": "6fee3731",
   "metadata": {},
   "outputs": [
    {
     "name": "stdout",
     "output_type": "stream",
     "text": [
      "Last element from 2nd dim:  10\n"
     ]
    }
   ],
   "source": [
    "import numpy as np\n",
    "\n",
    "arr = np.array([[1,2,3,4,5], [6,7,8,9,10]])\n",
    "\n",
    "print('Last element from 2nd dim: ', arr[1, -1])"
   ]
  },
  {
   "cell_type": "markdown",
   "id": "8503c8d9",
   "metadata": {},
   "source": [
    "# NumPy Array Slicing:------------"
   ]
  },
  {
   "cell_type": "markdown",
   "id": "ed02aa10",
   "metadata": {},
   "source": [
    "Slicing arrays\n",
    "Slicing in python means taking elements from one given index to another given index.\n",
    "\n",
    "We pass slice instead of index like this: [start:end].\n",
    "\n",
    "We can also define the step, like this: [start:end:step].\n",
    "\n",
    "If we don't pass start its considered 0\n",
    "\n",
    "If we don't pass end its considered length of array in that dimension\n",
    "\n",
    "If we don't pass step its considered 1"
   ]
  },
  {
   "cell_type": "code",
   "execution_count": 21,
   "id": "b0b21b33",
   "metadata": {},
   "outputs": [
    {
     "name": "stdout",
     "output_type": "stream",
     "text": [
      "[2 3 4 5]\n"
     ]
    }
   ],
   "source": [
    "import numpy as np\n",
    "\n",
    "arr = np.array([1, 2, 3, 4, 5, 6, 7])\n",
    "\n",
    "print(arr[1:5])"
   ]
  },
  {
   "cell_type": "code",
   "execution_count": 22,
   "id": "61bca233",
   "metadata": {},
   "outputs": [
    {
     "name": "stdout",
     "output_type": "stream",
     "text": [
      "[5 6 7]\n"
     ]
    }
   ],
   "source": [
    "import numpy as np\n",
    "\n",
    "arr = np.array([1, 2, 3, 4, 5, 6, 7])\n",
    "\n",
    "print(arr[4:])"
   ]
  },
  {
   "cell_type": "code",
   "execution_count": 23,
   "id": "25215740",
   "metadata": {},
   "outputs": [
    {
     "name": "stdout",
     "output_type": "stream",
     "text": [
      "[1 2 3 4]\n"
     ]
    }
   ],
   "source": [
    "import numpy as np\n",
    "\n",
    "arr = np.array([1, 2, 3, 4, 5, 6, 7])\n",
    "\n",
    "print(arr[:4])"
   ]
  },
  {
   "cell_type": "markdown",
   "id": "31bf0834",
   "metadata": {},
   "source": [
    "Negative Slicing:-------"
   ]
  },
  {
   "cell_type": "code",
   "execution_count": 24,
   "id": "ce319636",
   "metadata": {},
   "outputs": [
    {
     "name": "stdout",
     "output_type": "stream",
     "text": [
      "[5 6]\n"
     ]
    }
   ],
   "source": [
    "import numpy as np\n",
    "\n",
    "arr = np.array([1, 2, 3, 4, 5, 6, 7])\n",
    "\n",
    "print(arr[-3:-1])"
   ]
  },
  {
   "cell_type": "markdown",
   "id": "e66adf60",
   "metadata": {},
   "source": [
    "# step"
   ]
  },
  {
   "cell_type": "code",
   "execution_count": 25,
   "id": "3e46ae83",
   "metadata": {},
   "outputs": [
    {
     "name": "stdout",
     "output_type": "stream",
     "text": [
      "[2 4]\n"
     ]
    }
   ],
   "source": [
    "import numpy as np\n",
    "\n",
    "arr = np.array([1, 2, 3, 4, 5, 6, 7])\n",
    "\n",
    "print(arr[1:5:2])"
   ]
  },
  {
   "cell_type": "code",
   "execution_count": 26,
   "id": "18573108",
   "metadata": {},
   "outputs": [
    {
     "name": "stdout",
     "output_type": "stream",
     "text": [
      "[1 3 5 7]\n"
     ]
    }
   ],
   "source": [
    "import numpy as np\n",
    "\n",
    "arr = np.array([1, 2, 3, 4, 5, 6, 7])\n",
    "\n",
    "print(arr[::2])"
   ]
  },
  {
   "cell_type": "markdown",
   "id": "7a725560",
   "metadata": {},
   "source": [
    "# Slicing 2-D Arrays"
   ]
  },
  {
   "cell_type": "code",
   "execution_count": 27,
   "id": "42a862d3",
   "metadata": {},
   "outputs": [
    {
     "name": "stdout",
     "output_type": "stream",
     "text": [
      "[7 8 9]\n"
     ]
    }
   ],
   "source": [
    "import numpy as np\n",
    "\n",
    "arr = np.array([[1, 2, 3, 4, 5], [6, 7, 8, 9, 10]])\n",
    "\n",
    "print(arr[1, 1:4])"
   ]
  },
  {
   "cell_type": "code",
   "execution_count": 28,
   "id": "1c6c40e7",
   "metadata": {},
   "outputs": [
    {
     "name": "stdout",
     "output_type": "stream",
     "text": [
      "[3 8]\n"
     ]
    }
   ],
   "source": [
    "import numpy as np\n",
    "\n",
    "arr = np.array([[1, 2, 3, 4, 5], [6, 7, 8, 9, 10]])\n",
    "\n",
    "print(arr[0:2, 2])"
   ]
  },
  {
   "cell_type": "code",
   "execution_count": 29,
   "id": "8a45b5b6",
   "metadata": {},
   "outputs": [
    {
     "name": "stdout",
     "output_type": "stream",
     "text": [
      "[[2 3 4]\n",
      " [7 8 9]]\n"
     ]
    }
   ],
   "source": [
    "import numpy as np\n",
    "\n",
    "arr = np.array([[1, 2, 3, 4, 5], [6, 7, 8, 9, 10]])\n",
    "\n",
    "print(arr[0:2, 1:4])"
   ]
  },
  {
   "cell_type": "markdown",
   "id": "fa6ea973",
   "metadata": {},
   "source": [
    "# NumPy Data Types\n",
    "\n"
   ]
  },
  {
   "cell_type": "markdown",
   "id": "529723e0",
   "metadata": {},
   "source": [
    "Data Types in Python\n",
    "By default Python have these data types:\n",
    "\n",
    "strings - used to represent text data, the text is given under quote marks. e.g. \"ABCD\"\n",
    "integer - used to represent integer numbers. e.g. -1, -2, -3\n",
    "float - used to represent real numbers. e.g. 1.2, 42.42\n",
    "boolean - used to represent True or False.\n",
    "complex - used to represent complex numbers. e.g. 1.0 + 2.0j, 1.5 + 2.5j"
   ]
  },
  {
   "cell_type": "markdown",
   "id": "097bbf66",
   "metadata": {},
   "source": [
    "# Data Types in NumPy\n",
    "NumPy has some extra data types, and refer to data types with one character, like i for integers, u for unsigned integers etc.\n",
    "\n",
    "Below is a list of all data types in NumPy and the characters used to represent them.\n",
    "\n",
    "i - integer\n",
    "b - boolean\n",
    "u - unsigned integer\n",
    "f - float\n",
    "c - complex float\n",
    "m - timedelta\n",
    "M - datetime\n",
    "O - object\n",
    "S - string\n",
    "U - unicode string\n",
    "V - fixed chunk of memory for other type ( void )"
   ]
  },
  {
   "cell_type": "markdown",
   "id": "c7e72c05",
   "metadata": {},
   "source": [
    "# Checking the Data Type of an Array\n",
    "The NumPy array object has a property called dtype that returns the data type of the array:"
   ]
  },
  {
   "cell_type": "code",
   "execution_count": 30,
   "id": "42d1df11",
   "metadata": {},
   "outputs": [
    {
     "name": "stdout",
     "output_type": "stream",
     "text": [
      "int32\n"
     ]
    }
   ],
   "source": [
    "import numpy as np\n",
    "\n",
    "arr = np.array([1, 2, 3, 4])\n",
    "\n",
    "print(arr.dtype)"
   ]
  },
  {
   "cell_type": "code",
   "execution_count": 31,
   "id": "02a121e1",
   "metadata": {},
   "outputs": [
    {
     "name": "stdout",
     "output_type": "stream",
     "text": [
      "<U6\n"
     ]
    }
   ],
   "source": [
    "import numpy as np\n",
    "\n",
    "arr = np.array(['apple', 'banana', 'cherry'])\n",
    "\n",
    "print(arr.dtype)"
   ]
  },
  {
   "cell_type": "markdown",
   "id": "35490a3e",
   "metadata": {},
   "source": [
    "Creating Arrays With a Defined Data Type\n",
    "We use the array() function to create arrays, this function can take an optional argument: dtype that allows us to define the expected data type of the array elements:"
   ]
  },
  {
   "cell_type": "code",
   "execution_count": 32,
   "id": "85048738",
   "metadata": {},
   "outputs": [
    {
     "name": "stdout",
     "output_type": "stream",
     "text": [
      "[b'1' b'2' b'3' b'4']\n",
      "|S1\n"
     ]
    }
   ],
   "source": [
    "import numpy as np\n",
    "\n",
    "arr = np.array([1, 2, 3, 4], dtype='S')\n",
    "\n",
    "print(arr)\n",
    "print(arr.dtype)"
   ]
  },
  {
   "cell_type": "code",
   "execution_count": 33,
   "id": "ca339d42",
   "metadata": {},
   "outputs": [
    {
     "name": "stdout",
     "output_type": "stream",
     "text": [
      "[1 2 3 4]\n",
      "int32\n"
     ]
    }
   ],
   "source": [
    "import numpy as np\n",
    "\n",
    "arr = np.array([1, 2, 3, 4], dtype='i4')\n",
    "\n",
    "print(arr)\n",
    "print(arr.dtype)\n"
   ]
  },
  {
   "cell_type": "markdown",
   "id": "9f460ef1",
   "metadata": {},
   "source": [
    "What if a Value Can Not Be Converted?\n",
    "If a type is given in which elements can't be casted then NumPy will raise a ValueError.\n",
    "\n",
    "ValueError: In Python ValueError is raised when the type of passed argument to a function is unexpected/incorrect."
   ]
  },
  {
   "cell_type": "code",
   "execution_count": 34,
   "id": "1ce1a442",
   "metadata": {},
   "outputs": [
    {
     "ename": "ValueError",
     "evalue": "invalid literal for int() with base 10: 'a'",
     "output_type": "error",
     "traceback": [
      "\u001b[1;31m---------------------------------------------------------------------------\u001b[0m",
      "\u001b[1;31mValueError\u001b[0m                                Traceback (most recent call last)",
      "\u001b[1;32m~\\AppData\\Local\\Temp/ipykernel_5580/1513465246.py\u001b[0m in \u001b[0;36m<module>\u001b[1;34m\u001b[0m\n\u001b[0;32m      1\u001b[0m \u001b[1;32mimport\u001b[0m \u001b[0mnumpy\u001b[0m \u001b[1;32mas\u001b[0m \u001b[0mnp\u001b[0m\u001b[1;33m\u001b[0m\u001b[1;33m\u001b[0m\u001b[0m\n\u001b[0;32m      2\u001b[0m \u001b[1;33m\u001b[0m\u001b[0m\n\u001b[1;32m----> 3\u001b[1;33m \u001b[0marr\u001b[0m \u001b[1;33m=\u001b[0m \u001b[0mnp\u001b[0m\u001b[1;33m.\u001b[0m\u001b[0marray\u001b[0m\u001b[1;33m(\u001b[0m\u001b[1;33m[\u001b[0m\u001b[1;34m'a'\u001b[0m\u001b[1;33m,\u001b[0m \u001b[1;34m'2'\u001b[0m\u001b[1;33m,\u001b[0m \u001b[1;34m'3'\u001b[0m\u001b[1;33m]\u001b[0m\u001b[1;33m,\u001b[0m \u001b[0mdtype\u001b[0m\u001b[1;33m=\u001b[0m\u001b[1;34m'i'\u001b[0m\u001b[1;33m)\u001b[0m\u001b[1;33m\u001b[0m\u001b[1;33m\u001b[0m\u001b[0m\n\u001b[0m",
      "\u001b[1;31mValueError\u001b[0m: invalid literal for int() with base 10: 'a'"
     ]
    }
   ],
   "source": [
    "import numpy as np\n",
    "\n",
    "arr = np.array(['a', '2', '3'], dtype='i')"
   ]
  },
  {
   "cell_type": "markdown",
   "id": "a75cfaa8",
   "metadata": {},
   "source": [
    "Converting Data Type on Existing Arrays\n",
    "The best way to change the data type of an existing array, is to make a copy of the array with the astype() method.\n",
    "\n",
    "The astype() function creates a copy of the array, and allows you to specify the data type as a parameter.\n",
    "\n",
    "The data type can be specified using a string, like 'f' for float, 'i' for integer etc. or you can use the data type directly like float for float and int for integer."
   ]
  },
  {
   "cell_type": "code",
   "execution_count": 35,
   "id": "a63148db",
   "metadata": {},
   "outputs": [
    {
     "name": "stdout",
     "output_type": "stream",
     "text": [
      "[1 2 3]\n",
      "int32\n"
     ]
    }
   ],
   "source": [
    "#Change data type from float to integer by using 'i' as parameter value:\n",
    "\n",
    "import numpy as np\n",
    "\n",
    "arr = np.array([1.1, 2.1, 3.1])\n",
    "\n",
    "newarr = arr.astype('i')\n",
    "\n",
    "print(newarr)\n",
    "print(newarr.dtype)"
   ]
  },
  {
   "cell_type": "code",
   "execution_count": 36,
   "id": "38fe128c",
   "metadata": {},
   "outputs": [
    {
     "name": "stdout",
     "output_type": "stream",
     "text": [
      "[1 2 3]\n",
      "int32\n"
     ]
    }
   ],
   "source": [
    "#Change data type from float to integer by using int as parameter value:\n",
    "\n",
    "import numpy as np\n",
    "\n",
    "arr = np.array([1.1, 2.1, 3.1])\n",
    "\n",
    "newarr = arr.astype(int)\n",
    "\n",
    "print(newarr)\n",
    "print(newarr.dtype)\n"
   ]
  },
  {
   "cell_type": "code",
   "execution_count": 37,
   "id": "046d1ac3",
   "metadata": {},
   "outputs": [
    {
     "name": "stdout",
     "output_type": "stream",
     "text": [
      "[ True False  True]\n",
      "bool\n"
     ]
    }
   ],
   "source": [
    "#Change data type from integer to boolean:\n",
    "\n",
    "import numpy as np\n",
    "\n",
    "arr = np.array([1, 0, 3])\n",
    "\n",
    "newarr = arr.astype(bool)\n",
    "\n",
    "print(newarr)\n",
    "print(newarr.dtype)"
   ]
  },
  {
   "cell_type": "markdown",
   "id": "9df391d4",
   "metadata": {},
   "source": [
    "# NumPy Array Copy vs View:----------"
   ]
  },
  {
   "cell_type": "markdown",
   "id": "b7aee814",
   "metadata": {},
   "source": [
    "The Difference Between Copy and View\n",
    "The main difference between a copy and a view of an array is that the copy is a new array, and the view is just a view of the original array.\n",
    "\n",
    "The copy owns the data and any changes made to the copy will not affect original array, and any changes made to the original array will not affect the copy.\n",
    "\n",
    "The view does not own the data and any changes made to the view will affect the original array, and any changes made to the original array will affect the view."
   ]
  },
  {
   "cell_type": "markdown",
   "id": "afe34d29",
   "metadata": {},
   "source": [
    "COPY:"
   ]
  },
  {
   "cell_type": "code",
   "execution_count": 38,
   "id": "b793f90a",
   "metadata": {},
   "outputs": [
    {
     "name": "stdout",
     "output_type": "stream",
     "text": [
      "[42  2  3  4  5]\n",
      "[1 2 3 4 5]\n"
     ]
    }
   ],
   "source": [
    "#Make a copy, change the original array, and display both arrays:\n",
    "\n",
    "import numpy as np\n",
    "\n",
    "arr = np.array([1, 2, 3, 4, 5])\n",
    "x = arr.copy()\n",
    "arr[0] = 42\n",
    "\n",
    "print(arr)\n",
    "print(x)"
   ]
  },
  {
   "cell_type": "markdown",
   "id": "173588df",
   "metadata": {},
   "source": [
    "VIEW:"
   ]
  },
  {
   "cell_type": "code",
   "execution_count": 39,
   "id": "ee89ae17",
   "metadata": {},
   "outputs": [
    {
     "name": "stdout",
     "output_type": "stream",
     "text": [
      "[42  2  3  4  5]\n",
      "[42  2  3  4  5]\n"
     ]
    }
   ],
   "source": [
    "#Make a view, change the original array, and display both arrays:\n",
    "\n",
    "import numpy as np\n",
    "\n",
    "arr = np.array([1, 2, 3, 4, 5])\n",
    "x = arr.view()\n",
    "arr[0] = 42\n",
    "\n",
    "print(arr)\n",
    "print(x)"
   ]
  },
  {
   "cell_type": "markdown",
   "id": "054ed0d5",
   "metadata": {},
   "source": [
    "Make Changes in the VIEW:"
   ]
  },
  {
   "cell_type": "code",
   "execution_count": 40,
   "id": "dee4bfe2",
   "metadata": {},
   "outputs": [
    {
     "name": "stdout",
     "output_type": "stream",
     "text": [
      "[31  2  3  4  5]\n",
      "[31  2  3  4  5]\n"
     ]
    }
   ],
   "source": [
    "#Make a view, change the view, and display both arrays:\n",
    "\n",
    "import numpy as np\n",
    "\n",
    "arr = np.array([1, 2, 3, 4, 5])\n",
    "x = arr.view()\n",
    "x[0] = 31\n",
    "\n",
    "print(arr)\n",
    "print(x)"
   ]
  },
  {
   "cell_type": "markdown",
   "id": "589180b8",
   "metadata": {},
   "source": [
    "Check if Array Owns its Data\n",
    "As mentioned above, copies owns the data, and views does not own the data, but how can we check this?\n",
    "\n",
    "Every NumPy array has the attribute base that returns None if the array owns the data.\n",
    "\n",
    "Otherwise, the base  attribute refers to the original object."
   ]
  },
  {
   "cell_type": "code",
   "execution_count": 41,
   "id": "b326d74a",
   "metadata": {},
   "outputs": [
    {
     "name": "stdout",
     "output_type": "stream",
     "text": [
      "None\n",
      "[1 2 3 4 5]\n"
     ]
    }
   ],
   "source": [
    "#Print the value of the base attribute to check if an array owns it's data or not:\n",
    "\n",
    "import numpy as np\n",
    "\n",
    "arr = np.array([1, 2, 3, 4, 5])\n",
    "\n",
    "x = arr.copy()\n",
    "y = arr.view()\n",
    "\n",
    "print(x.base)\n",
    "print(y.base)"
   ]
  },
  {
   "cell_type": "code",
   "execution_count": null,
   "id": "9fc9b590",
   "metadata": {},
   "outputs": [],
   "source": [
    "#The copy returns None.\n",
    "#The view returns the original array."
   ]
  },
  {
   "cell_type": "markdown",
   "id": "90423475",
   "metadata": {},
   "source": [
    "# NumPy Array Shape:--------------"
   ]
  },
  {
   "cell_type": "markdown",
   "id": "c1314ec2",
   "metadata": {},
   "source": [
    "Shape of an Array\n",
    "The shape of an array is the number of elements in each dimension.\n",
    "\n",
    "Get the Shape of an Array\n",
    "NumPy arrays have an attribute called shape that returns a tuple with each index having the number of corresponding elements."
   ]
  },
  {
   "cell_type": "code",
   "execution_count": 42,
   "id": "e4391629",
   "metadata": {},
   "outputs": [
    {
     "name": "stdout",
     "output_type": "stream",
     "text": [
      "(2, 4)\n"
     ]
    }
   ],
   "source": [
    "#Print the shape of a 2-D array:\n",
    "\n",
    "import numpy as np\n",
    "\n",
    "arr = np.array([[1, 2, 3, 4], [5, 6, 7, 8]])\n",
    "\n",
    "print(arr.shape)"
   ]
  },
  {
   "cell_type": "code",
   "execution_count": 43,
   "id": "5ccf616b",
   "metadata": {},
   "outputs": [
    {
     "name": "stdout",
     "output_type": "stream",
     "text": [
      "[[[[[1 2 3 4]]]]]\n",
      "shape of array : (1, 1, 1, 1, 4)\n"
     ]
    }
   ],
   "source": [
    "#Create an array with 5 dimensions using ndmin using a vector with values 1,2,3,4 and verify that last dimension has value 4:\n",
    "\n",
    "import numpy as np\n",
    "\n",
    "arr = np.array([1, 2, 3, 4], ndmin=5)\n",
    "\n",
    "print(arr)\n",
    "print('shape of array :', arr.shape)"
   ]
  },
  {
   "cell_type": "markdown",
   "id": "a0154448",
   "metadata": {},
   "source": [
    "What does the shape tuple represent?\n",
    "Integers at every index tells about the number of elements the corresponding dimension has.\n",
    "\n",
    "In the example above at index-4 we have value 4, so we can say that 5th ( 4 + 1 th) dimension has 4 elements."
   ]
  },
  {
   "cell_type": "markdown",
   "id": "3d4665e3",
   "metadata": {},
   "source": [
    "# NumPy Array Reshaping:----------"
   ]
  },
  {
   "cell_type": "markdown",
   "id": "e56133ae",
   "metadata": {},
   "source": [
    "Reshaping arrays\n",
    "Reshaping means changing the shape of an array.\n",
    "\n",
    "The shape of an array is the number of elements in each dimension.\n",
    "\n",
    "By reshaping we can add or remove dimensions or change number of elements in each dimension."
   ]
  },
  {
   "cell_type": "markdown",
   "id": "378d4c4d",
   "metadata": {},
   "source": [
    "Reshape From 1-D to 2-D"
   ]
  },
  {
   "cell_type": "code",
   "execution_count": 44,
   "id": "79432dbb",
   "metadata": {},
   "outputs": [
    {
     "name": "stdout",
     "output_type": "stream",
     "text": [
      "[[[ 1  2]\n",
      "  [ 3  4]\n",
      "  [ 5  6]]\n",
      "\n",
      " [[ 7  8]\n",
      "  [ 9 10]\n",
      "  [11 12]]]\n"
     ]
    }
   ],
   "source": [
    "import numpy as np\n",
    "\n",
    "arr = np.array([1, 2, 3, 4, 5, 6, 7, 8, 9, 10, 11, 12])\n",
    "\n",
    "newarr = arr.reshape(2, 3, 2)\n",
    "\n",
    "print(newarr)\n"
   ]
  },
  {
   "cell_type": "markdown",
   "id": "d88afa5e",
   "metadata": {},
   "source": [
    "Can We Reshape Into any Shape?\n",
    "Yes, as long as the elements required for reshaping are equal in both shapes.\n",
    "\n",
    "We can reshape an 8 elements 1D array into 4 elements in 2 rows 2D array but we cannot reshape it into a 3 elements 3 rows 2D array as that would require 3x3 = 9 elements."
   ]
  },
  {
   "cell_type": "code",
   "execution_count": 45,
   "id": "ca857039",
   "metadata": {},
   "outputs": [
    {
     "ename": "ValueError",
     "evalue": "cannot reshape array of size 8 into shape (3,3)",
     "output_type": "error",
     "traceback": [
      "\u001b[1;31m---------------------------------------------------------------------------\u001b[0m",
      "\u001b[1;31mValueError\u001b[0m                                Traceback (most recent call last)",
      "\u001b[1;32m~\\AppData\\Local\\Temp/ipykernel_5580/2535588415.py\u001b[0m in \u001b[0;36m<module>\u001b[1;34m\u001b[0m\n\u001b[0;32m      5\u001b[0m \u001b[0marr\u001b[0m \u001b[1;33m=\u001b[0m \u001b[0mnp\u001b[0m\u001b[1;33m.\u001b[0m\u001b[0marray\u001b[0m\u001b[1;33m(\u001b[0m\u001b[1;33m[\u001b[0m\u001b[1;36m1\u001b[0m\u001b[1;33m,\u001b[0m \u001b[1;36m2\u001b[0m\u001b[1;33m,\u001b[0m \u001b[1;36m3\u001b[0m\u001b[1;33m,\u001b[0m \u001b[1;36m4\u001b[0m\u001b[1;33m,\u001b[0m \u001b[1;36m5\u001b[0m\u001b[1;33m,\u001b[0m \u001b[1;36m6\u001b[0m\u001b[1;33m,\u001b[0m \u001b[1;36m7\u001b[0m\u001b[1;33m,\u001b[0m \u001b[1;36m8\u001b[0m\u001b[1;33m]\u001b[0m\u001b[1;33m)\u001b[0m\u001b[1;33m\u001b[0m\u001b[1;33m\u001b[0m\u001b[0m\n\u001b[0;32m      6\u001b[0m \u001b[1;33m\u001b[0m\u001b[0m\n\u001b[1;32m----> 7\u001b[1;33m \u001b[0mnewarr\u001b[0m \u001b[1;33m=\u001b[0m \u001b[0marr\u001b[0m\u001b[1;33m.\u001b[0m\u001b[0mreshape\u001b[0m\u001b[1;33m(\u001b[0m\u001b[1;36m3\u001b[0m\u001b[1;33m,\u001b[0m \u001b[1;36m3\u001b[0m\u001b[1;33m)\u001b[0m\u001b[1;33m\u001b[0m\u001b[1;33m\u001b[0m\u001b[0m\n\u001b[0m\u001b[0;32m      8\u001b[0m \u001b[1;33m\u001b[0m\u001b[0m\n\u001b[0;32m      9\u001b[0m \u001b[0mprint\u001b[0m\u001b[1;33m(\u001b[0m\u001b[0mnewarr\u001b[0m\u001b[1;33m)\u001b[0m\u001b[1;33m\u001b[0m\u001b[1;33m\u001b[0m\u001b[0m\n",
      "\u001b[1;31mValueError\u001b[0m: cannot reshape array of size 8 into shape (3,3)"
     ]
    }
   ],
   "source": [
    "#Try converting 1D array with 8 elements to a 2D array with 3 elements in each dimension (will raise an error):\n",
    "\n",
    "import numpy as np\n",
    "\n",
    "arr = np.array([1, 2, 3, 4, 5, 6, 7, 8])\n",
    "\n",
    "newarr = arr.reshape(3, 3)\n",
    "\n",
    "print(newarr)\n",
    "#"
   ]
  },
  {
   "cell_type": "markdown",
   "id": "cbdd1496",
   "metadata": {},
   "source": [
    "Returns Copy or View?\n"
   ]
  },
  {
   "cell_type": "code",
   "execution_count": 46,
   "id": "e6207294",
   "metadata": {},
   "outputs": [
    {
     "name": "stdout",
     "output_type": "stream",
     "text": [
      "[1 2 3 4 5 6 7 8]\n"
     ]
    }
   ],
   "source": [
    "import numpy as np\n",
    "\n",
    "arr = np.array([1, 2, 3, 4, 5, 6, 7, 8])\n",
    "\n",
    "print(arr.reshape(2, 4).base)\n"
   ]
  },
  {
   "cell_type": "markdown",
   "id": "02b4750e",
   "metadata": {},
   "source": [
    "Unknown Dimension\n",
    "You are allowed to have one \"unknown\" dimension.\n",
    "\n",
    "Meaning that you do not have to specify an exact number for one of the dimensions in the reshape method.\n",
    "\n",
    "Pass -1 as the value, and NumPy will calculate this number for you."
   ]
  },
  {
   "cell_type": "code",
   "execution_count": 47,
   "id": "b77dcfa7",
   "metadata": {},
   "outputs": [
    {
     "name": "stdout",
     "output_type": "stream",
     "text": [
      "[[[1 2]\n",
      "  [3 4]]\n",
      "\n",
      " [[5 6]\n",
      "  [7 8]]]\n"
     ]
    }
   ],
   "source": [
    "#Convert 1D array with 8 elements to 3D array with 2x2 elements:\n",
    "\n",
    "import numpy as np\n",
    "\n",
    "arr = np.array([1, 2, 3, 4, 5, 6, 7, 8])\n",
    "\n",
    "newarr = arr.reshape(2, 2, -1)\n",
    "\n",
    "print(newarr)"
   ]
  },
  {
   "cell_type": "code",
   "execution_count": null,
   "id": "ee409698",
   "metadata": {},
   "outputs": [],
   "source": [
    "#Note: We can not pass -1 to more than one dimension."
   ]
  },
  {
   "cell_type": "markdown",
   "id": "4097efa2",
   "metadata": {},
   "source": [
    "Flattening the arrays\n",
    "Flattening array means converting a multidimensional array into a 1D array.\n",
    "\n",
    "We can use reshape(-1) to do this."
   ]
  },
  {
   "cell_type": "code",
   "execution_count": 48,
   "id": "56bd3520",
   "metadata": {},
   "outputs": [
    {
     "name": "stdout",
     "output_type": "stream",
     "text": [
      "[1 2 3 4 5 6]\n"
     ]
    }
   ],
   "source": [
    "#Convert the array into a 1D array:\n",
    "\n",
    "import numpy as np\n",
    "\n",
    "arr = np.array([[1, 2, 3], [4, 5, 6]])\n",
    "\n",
    "newarr = arr.reshape(-1)\n",
    "\n",
    "print(newarr)"
   ]
  },
  {
   "cell_type": "markdown",
   "id": "fbf06bc4",
   "metadata": {},
   "source": [
    "Note: There are a lot of functions for changing the shapes of arrays in numpy flatten, ravel and also for rearranging the elements rot90, flip, fliplr, flipud etc. These fall under Intermediate to Advanced section of numpy."
   ]
  },
  {
   "cell_type": "markdown",
   "id": "fe7025e2",
   "metadata": {},
   "source": [
    "# NumPy Array Iterating:---------------- "
   ]
  },
  {
   "cell_type": "markdown",
   "id": "8e6e03ad",
   "metadata": {},
   "source": [
    "Iterating Arrays\n",
    "Iterating means going through elements one by one.\n",
    "\n",
    "As we deal with multi-dimensional arrays in numpy, we can do this using basic for loop of python.\n",
    "\n",
    "If we iterate on a 1-D array it will go through each element one by one."
   ]
  },
  {
   "cell_type": "code",
   "execution_count": 50,
   "id": "9689374e",
   "metadata": {},
   "outputs": [
    {
     "name": "stdout",
     "output_type": "stream",
     "text": [
      "1\n",
      "2\n",
      "3\n"
     ]
    }
   ],
   "source": [
    "#Iterate on the elements of the following 1-D array:\n",
    "\n",
    "import numpy as np\n",
    "\n",
    "arr = np.array([1, 2, 3])\n",
    "\n",
    "for x in arr:\n",
    "    print(x)"
   ]
  },
  {
   "cell_type": "markdown",
   "id": "3603fcb1",
   "metadata": {},
   "source": [
    "Iterating 2-D Arrays\n",
    "In a 2-D array it will go through all the rows."
   ]
  },
  {
   "cell_type": "code",
   "execution_count": 51,
   "id": "1feac572",
   "metadata": {},
   "outputs": [
    {
     "name": "stdout",
     "output_type": "stream",
     "text": [
      "[1 2 3]\n",
      "[4 5 6]\n"
     ]
    }
   ],
   "source": [
    " #Iterate on the elements of the following 2-D array:\n",
    "\n",
    "import numpy as np\n",
    "\n",
    "arr = np.array([[1, 2, 3], [4, 5, 6]])\n",
    "\n",
    "for x in arr:\n",
    "  print(x)"
   ]
  },
  {
   "cell_type": "code",
   "execution_count": 52,
   "id": "4504acd7",
   "metadata": {},
   "outputs": [
    {
     "name": "stdout",
     "output_type": "stream",
     "text": [
      "1\n",
      "2\n",
      "3\n",
      "4\n",
      "5\n",
      "6\n"
     ]
    }
   ],
   "source": [
    "#Iterate on each scalar element of the 2-D array:\n",
    "\n",
    "import numpy as np\n",
    "\n",
    "arr = np.array([[1, 2, 3], [4, 5, 6]])\n",
    "\n",
    "for x in arr:\n",
    "  for y in x:\n",
    "    print(y)"
   ]
  },
  {
   "cell_type": "markdown",
   "id": "04ed1013",
   "metadata": {},
   "source": [
    "Iterating 3-D Arrays\n",
    "In a 3-D array it will go through all the 2-D arrays."
   ]
  },
  {
   "cell_type": "code",
   "execution_count": 53,
   "id": "03667a55",
   "metadata": {},
   "outputs": [
    {
     "name": "stdout",
     "output_type": "stream",
     "text": [
      "[[1 2 3]\n",
      " [4 5 6]]\n",
      "[[ 7  8  9]\n",
      " [10 11 12]]\n"
     ]
    }
   ],
   "source": [
    "import numpy as np\n",
    "\n",
    "arr = np.array([[[1, 2, 3], [4, 5, 6]], [[7, 8, 9], [10, 11, 12]]])\n",
    "\n",
    "for x in arr:\n",
    "  print(x)"
   ]
  },
  {
   "cell_type": "code",
   "execution_count": 54,
   "id": "c04741c0",
   "metadata": {},
   "outputs": [
    {
     "name": "stdout",
     "output_type": "stream",
     "text": [
      "1\n",
      "2\n",
      "3\n",
      "4\n",
      "5\n",
      "6\n",
      "7\n",
      "8\n",
      "9\n",
      "10\n",
      "11\n",
      "12\n"
     ]
    }
   ],
   "source": [
    "#Iterate down to the scalars:\n",
    "\n",
    "import numpy as np\n",
    "\n",
    "arr = np.array([[[1, 2, 3], [4, 5, 6]], [[7, 8, 9], [10, 11, 12]]])\n",
    "\n",
    "for x in arr:\n",
    "  for y in x:\n",
    "    for z in y:\n",
    "      print(z)"
   ]
  },
  {
   "cell_type": "markdown",
   "id": "9bab66d9",
   "metadata": {},
   "source": [
    "Iterating Arrays Using nditer()\n",
    "The function nditer() is a helping function that can be used from very basic to very advanced iterations. It solves some basic issues which we face in iteration, lets go through it with examples.\n",
    "\n",
    "Iterating on Each Scalar Element\n",
    "In basic for loops, iterating through each scalar of an array we need to use n for loops which can be difficult to write for arrays with very high dimensionality."
   ]
  },
  {
   "cell_type": "code",
   "execution_count": 56,
   "id": "e7824799",
   "metadata": {},
   "outputs": [
    {
     "name": "stdout",
     "output_type": "stream",
     "text": [
      "1\n",
      "2\n",
      "3\n",
      "4\n",
      "5\n",
      "6\n",
      "7\n",
      "8\n"
     ]
    }
   ],
   "source": [
    "#Iterate through the following 3-D array:\n",
    "\n",
    "import numpy as np\n",
    "\n",
    "arr = np.array([[[1, 2], [3, 4]], [[5, 6], [7, 8]]])\n",
    "\n",
    "for x in np.nditer(arr):\n",
    "    print(x)"
   ]
  },
  {
   "cell_type": "markdown",
   "id": "65d3ed9f",
   "metadata": {},
   "source": [
    "Iterating Array With Different Data Types\n",
    "We can use op_dtypes argument and pass it the expected datatype to change the datatype of elements while iterating.\n",
    "\n",
    "NumPy does not change the data type of the element in-place (where the element is in array) so it needs some other space to perform this action, that extra space is called buffer, and in order to enable it in nditer() we pass flags=['buffered']."
   ]
  },
  {
   "cell_type": "code",
   "execution_count": 57,
   "id": "be84c689",
   "metadata": {},
   "outputs": [
    {
     "name": "stdout",
     "output_type": "stream",
     "text": [
      "b'1'\n",
      "b'2'\n",
      "b'3'\n"
     ]
    }
   ],
   "source": [
    "#Iterate through the array as a string:\n",
    "\n",
    "import numpy as np\n",
    "\n",
    "arr = np.array([1, 2, 3])\n",
    "\n",
    "for x in np.nditer(arr, flags=['buffered'], op_dtypes=['S']):\n",
    "  print(x)"
   ]
  },
  {
   "cell_type": "markdown",
   "id": "65c1bf1e",
   "metadata": {},
   "source": [
    "Iterating With Different Step Size\n",
    "We can use filtering and followed by iteration."
   ]
  },
  {
   "cell_type": "code",
   "execution_count": 58,
   "id": "a74f3df5",
   "metadata": {},
   "outputs": [
    {
     "name": "stdout",
     "output_type": "stream",
     "text": [
      "1\n",
      "3\n",
      "5\n",
      "7\n"
     ]
    }
   ],
   "source": [
    "#Iterate through every scalar element of the 2D array skipping 1 element:\n",
    "\n",
    "import numpy as np\n",
    "\n",
    "arr = np.array([[1, 2, 3, 4], [5, 6, 7, 8]])\n",
    "\n",
    "for x in np.nditer(arr[:, ::2]):\n",
    "  print(x)"
   ]
  },
  {
   "cell_type": "markdown",
   "id": "79d63630",
   "metadata": {},
   "source": [
    "Enumerated Iteration Using ndenumerate()\n",
    "Enumeration means mentioning sequence number of somethings one by one.\n",
    "\n",
    "Sometimes we require corresponding index of the element while iterating, the ndenumerate() method can be used for those usecases."
   ]
  },
  {
   "cell_type": "code",
   "execution_count": 59,
   "id": "5d43b7a8",
   "metadata": {},
   "outputs": [
    {
     "name": "stdout",
     "output_type": "stream",
     "text": [
      "(0,) 1\n",
      "(1,) 2\n",
      "(2,) 3\n"
     ]
    }
   ],
   "source": [
    "#Enumerate on following 1D arrays elements:\n",
    "\n",
    "import numpy as np\n",
    "\n",
    "arr = np.array([1, 2, 3])\n",
    "\n",
    "for idx, x in np.ndenumerate(arr):\n",
    "  print(idx, x)"
   ]
  },
  {
   "cell_type": "code",
   "execution_count": 60,
   "id": "ee6aabb1",
   "metadata": {},
   "outputs": [
    {
     "name": "stdout",
     "output_type": "stream",
     "text": [
      "(0, 0) 1\n",
      "(0, 1) 2\n",
      "(0, 2) 3\n",
      "(0, 3) 4\n",
      "(1, 0) 5\n",
      "(1, 1) 6\n",
      "(1, 2) 7\n",
      "(1, 3) 8\n"
     ]
    }
   ],
   "source": [
    "#Enumerate on following 2D array's elements:\n",
    "\n",
    "import numpy as np\n",
    "\n",
    "arr = np.array([[1, 2, 3, 4], [5, 6, 7, 8]])\n",
    "\n",
    "for idx, x in np.ndenumerate(arr):\n",
    "  print(idx, x)"
   ]
  },
  {
   "cell_type": "markdown",
   "id": "c7ee5480",
   "metadata": {},
   "source": [
    "# NumPy Joining Array:----------\n"
   ]
  },
  {
   "cell_type": "markdown",
   "id": "91151ae0",
   "metadata": {},
   "source": [
    "Joining NumPy Arrays\n",
    "Joining means putting contents of two or more arrays in a single array.\n",
    "\n",
    "In SQL we join tables based on a key, whereas in NumPy we join arrays by axes.\n",
    "\n",
    "We pass a sequence of arrays that we want to join to the concatenate() function, along with the axis. If axis is not explicitly passed, it is taken as 0."
   ]
  },
  {
   "cell_type": "code",
   "execution_count": 61,
   "id": "4936ba49",
   "metadata": {},
   "outputs": [
    {
     "name": "stdout",
     "output_type": "stream",
     "text": [
      "[1 2 3 4 5 6]\n"
     ]
    }
   ],
   "source": [
    "#Join two arrays\n",
    "\n",
    "import numpy as np\n",
    "\n",
    "arr1 = np.array([1, 2, 3])\n",
    "\n",
    "arr2 = np.array([4, 5, 6])\n",
    "\n",
    "arr = np.concatenate((arr1, arr2))\n",
    "\n",
    "print(arr)"
   ]
  },
  {
   "cell_type": "code",
   "execution_count": 62,
   "id": "fedbdfcd",
   "metadata": {},
   "outputs": [
    {
     "name": "stdout",
     "output_type": "stream",
     "text": [
      "[[1 2 5 6]\n",
      " [3 4 7 8]]\n"
     ]
    }
   ],
   "source": [
    "#Join two 2-D arrays along rows (axis=1):\n",
    "\n",
    "import numpy as np\n",
    "\n",
    "arr1 = np.array([[1, 2], [3, 4]])\n",
    "\n",
    "arr2 = np.array([[5, 6], [7, 8]])\n",
    "\n",
    "arr = np.concatenate((arr1, arr2), axis=1)\n",
    "\n",
    "print(arr)"
   ]
  },
  {
   "cell_type": "markdown",
   "id": "d52a5ab7",
   "metadata": {},
   "source": [
    "Joining Arrays Using Stack Functions\n",
    "Stacking is same as concatenation, the only difference is that stacking is done along a new axis.\n",
    "\n",
    "We can concatenate two 1-D arrays along the second axis which would result in putting them one over the other, ie. stacking.\n",
    "\n",
    "We pass a sequence of arrays that we want to join to the stack() method along with the axis. If axis is not explicitly passed it is taken as 0."
   ]
  },
  {
   "cell_type": "code",
   "execution_count": 64,
   "id": "3c570db9",
   "metadata": {},
   "outputs": [
    {
     "name": "stdout",
     "output_type": "stream",
     "text": [
      "[[1 4]\n",
      " [2 5]\n",
      " [3 6]]\n"
     ]
    }
   ],
   "source": [
    "import numpy as np\n",
    "arr1 = np.array([1,2,3])\n",
    "arr2 = np.array([4,5,6])\n",
    "arr = np.stack((arr1,arr2),axis=1)\n",
    "print(arr)"
   ]
  },
  {
   "cell_type": "markdown",
   "id": "33b70ae8",
   "metadata": {},
   "source": [
    "Stacking Along Rows\n",
    "NumPy provides a helper function: hstack() to stack along rows."
   ]
  },
  {
   "cell_type": "code",
   "execution_count": 65,
   "id": "80293fa5",
   "metadata": {},
   "outputs": [
    {
     "name": "stdout",
     "output_type": "stream",
     "text": [
      "[1 2 3 4 5 6]\n"
     ]
    }
   ],
   "source": [
    "import numpy as np\n",
    "\n",
    "arr1 = np.array([1, 2, 3])\n",
    "\n",
    "arr2 = np.array([4, 5, 6])\n",
    "\n",
    "arr = np.hstack((arr1, arr2))\n",
    "\n",
    "print(arr)"
   ]
  },
  {
   "cell_type": "markdown",
   "id": "d6a8c15a",
   "metadata": {},
   "source": [
    "Stacking Along Columns\n",
    "NumPy provides a helper function: vstack()  to stack along columns."
   ]
  },
  {
   "cell_type": "code",
   "execution_count": 66,
   "id": "8fd5b438",
   "metadata": {},
   "outputs": [
    {
     "name": "stdout",
     "output_type": "stream",
     "text": [
      "[[1 2 3]\n",
      " [4 5 6]]\n"
     ]
    }
   ],
   "source": [
    "import numpy as np\n",
    "\n",
    "arr1 = np.array([1, 2, 3])\n",
    "\n",
    "arr2 = np.array([4, 5, 6])\n",
    "\n",
    "arr = np.vstack((arr1, arr2))\n",
    "\n",
    "print(arr)"
   ]
  },
  {
   "cell_type": "markdown",
   "id": "e006852a",
   "metadata": {},
   "source": [
    "Stacking Along Height (depth)\n",
    "NumPy provides a helper function: dstack() to stack along height, which is the same as depth."
   ]
  },
  {
   "cell_type": "code",
   "execution_count": 68,
   "id": "8905927e",
   "metadata": {},
   "outputs": [
    {
     "name": "stdout",
     "output_type": "stream",
     "text": [
      "[[[1 4]\n",
      "  [2 5]\n",
      "  [3 6]]]\n"
     ]
    }
   ],
   "source": [
    "import numpy as np\n",
    "\n",
    "arr1 = np.array([1, 2, 3])\n",
    "\n",
    "arr2 = np.array([4, 5, 6])\n",
    "\n",
    "arr = np.dstack((arr1, arr2))\n",
    "\n",
    "print(arr)\n"
   ]
  },
  {
   "cell_type": "markdown",
   "id": "cceb41b3",
   "metadata": {},
   "source": [
    "# NumPy Splitting Array:--------"
   ]
  },
  {
   "cell_type": "code",
   "execution_count": null,
   "id": "05c649de",
   "metadata": {},
   "outputs": [],
   "source": []
  }
 ],
 "metadata": {
  "kernelspec": {
   "display_name": "Python 3 (ipykernel)",
   "language": "python",
   "name": "python3"
  },
  "language_info": {
   "codemirror_mode": {
    "name": "ipython",
    "version": 3
   },
   "file_extension": ".py",
   "mimetype": "text/x-python",
   "name": "python",
   "nbconvert_exporter": "python",
   "pygments_lexer": "ipython3",
   "version": "3.9.7"
  }
 },
 "nbformat": 4,
 "nbformat_minor": 5
}
